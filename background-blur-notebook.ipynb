{
  "nbformat": 4,
  "nbformat_minor": 0,
  "metadata": {
    "colab": {
      "name": "blur.ipynb",
      "provenance": [],
      "collapsed_sections": []
    },
    "kernelspec": {
      "name": "python3",
      "display_name": "Python 3"
    }
  },
  "cells": [
    {
      "cell_type": "code",
      "metadata": {
        "id": "b0QZnAL9_c80",
        "colab_type": "code",
        "colab": {}
      },
      "source": [
        "import os\n",
        "from io import BytesIO\n",
        "import tarfile\n",
        "import tempfile\n",
        "import cv2\n",
        "from six.moves import urllib\n",
        "from copy import deepcopy\n",
        "from matplotlib import gridspec\n",
        "from matplotlib import pyplot as plt\n",
        "import numpy as np\n",
        "from PIL import Image\n",
        "from IPython.display import Image as IMG"
      ],
      "execution_count": null,
      "outputs": []
    },
    {
      "cell_type": "code",
      "metadata": {
        "id": "moAW9f52Cdx-",
        "colab_type": "code",
        "colab": {}
      },
      "source": [
        "%tensorflow_version 1.x\n",
        "import tensorflow as tf"
      ],
      "execution_count": null,
      "outputs": []
    },
    {
      "cell_type": "code",
      "metadata": {
        "id": "FdJOW-uA_lC4",
        "colab_type": "code",
        "colab": {}
      },
      "source": [
        "class DeepLabModel(object):\n",
        "  \"\"\"Class to load deeplab model and run inference.\"\"\"\n",
        "\n",
        "  INPUT_TENSOR_NAME = 'ImageTensor:0'\n",
        "  OUTPUT_TENSOR_NAME = 'SemanticPredictions:0'\n",
        "  # INPUT_SIZE = 1024\n",
        "  INPUT_SIZE = 513\n",
        "  FROZEN_GRAPH_NAME = 'frozen_inference_graph'\n",
        "\n",
        "  def __init__(self, tarball_path):\n",
        "    \"\"\"Creates and loads pretrained deeplab model.\"\"\"\n",
        "    self.graph = tf.Graph()\n",
        "\n",
        "    graph_def = None\n",
        "    # Extract frozen graph from tar archive.\n",
        "    tar_file = tarfile.open(tarball_path)\n",
        "    for tar_info in tar_file.getmembers():\n",
        "      if self.FROZEN_GRAPH_NAME in os.path.basename(tar_info.name):\n",
        "        file_handle = tar_file.extractfile(tar_info)\n",
        "        graph_def = tf.GraphDef.FromString(file_handle.read())\n",
        "        break\n",
        "\n",
        "    tar_file.close()\n",
        "\n",
        "    if graph_def is None:\n",
        "      raise RuntimeError('Cannot find inference graph in tar archive.')\n",
        "\n",
        "    with self.graph.as_default():\n",
        "      tf.import_graph_def(graph_def, name='')\n",
        "\n",
        "    self.sess = tf.Session(graph=self.graph)\n",
        "\n",
        "  def run(self, image):\n",
        "    \"\"\"Runs inference on a single image.\n",
        "\n",
        "    Args:\n",
        "      image: A PIL.Image object, raw input image.\n",
        "\n",
        "    Returns:\n",
        "      resized_image: RGB image resized from original input image.\n",
        "      seg_map: Segmentation map of `resized_image`.\n",
        "    \"\"\"\n",
        "    width, height = image.size\n",
        "    resize_ratio = 1.0 * self.INPUT_SIZE / max(width, height)\n",
        "    print(width, height)\n",
        "    print(\"Resize Ratio - {}\".format(resize_ratio))\n",
        "    target_size = (int(resize_ratio * width), int(resize_ratio * height))\n",
        "    print(target_size)\n",
        "    # target_size = (width, height)\n",
        "    resized_image = image.convert('RGB').resize(target_size, Image.ANTIALIAS)\n",
        "    batch_seg_map = self.sess.run(\n",
        "        self.OUTPUT_TENSOR_NAME,\n",
        "        feed_dict={self.INPUT_TENSOR_NAME: [np.asarray(resized_image)]})\n",
        "    seg_map = batch_seg_map[0]\n",
        "    return resized_image, seg_map\n",
        "\n",
        "\n",
        "def create_pascal_label_colormap():\n",
        "  \"\"\"Creates a label colormap used in PASCAL VOC segmentation benchmark.\n",
        "\n",
        "  Returns:\n",
        "    A Colormap for visualizing segmentation results.\n",
        "  \"\"\"\n",
        "  colormap = np.zeros((256, 3), dtype=int)\n",
        "  ind = np.arange(256, dtype=int)\n",
        "\n",
        "  for shift in reversed(range(8)):\n",
        "    for channel in range(3):\n",
        "      colormap[:, channel] |= ((ind >> channel) & 1) << shift\n",
        "    ind >>= 3\n",
        "\n",
        "  return colormap\n",
        "\n",
        "\n",
        "def label_to_color_image(label):\n",
        "  \"\"\"Adds color defined by the dataset colormap to the label.\n",
        "\n",
        "  Args:\n",
        "    label: A 2D array with integer type, storing the segmentation label.\n",
        "\n",
        "  Returns:\n",
        "    result: A 2D array with floating type. The element of the array\n",
        "      is the color indexed by the corresponding element in the input label\n",
        "      to the PASCAL color map.\n",
        "\n",
        "  Raises:\n",
        "    ValueError: If label is not of rank 2 or its value is larger than color\n",
        "      map maximum entry.\n",
        "  \"\"\"\n",
        "  if label.ndim != 2:\n",
        "    raise ValueError('Expect 2-D input label')\n",
        "\n",
        "  colormap = create_pascal_label_colormap()\n",
        "\n",
        "  if np.max(label) >= len(colormap):\n",
        "    raise ValueError('label value too large.')\n",
        "\n",
        "  return colormap[label]\n",
        "\n",
        "\n",
        "def vis_segmentation(image, seg_map):\n",
        "  \"\"\"Visualizes input image, segmentation map and overlay view.\"\"\"\n",
        "  plt.figure(figsize=(15, 5))\n",
        "  grid_spec = gridspec.GridSpec(1, 4, width_ratios=[6, 6, 6, 1])\n",
        "\n",
        "  plt.subplot(grid_spec[0])\n",
        "  plt.imshow(image)\n",
        "  plt.axis('off')\n",
        "  plt.title('input image')\n",
        "\n",
        "  plt.subplot(grid_spec[1])\n",
        "  seg_image = label_to_color_image(seg_map).astype(np.uint8)\n",
        "  plt.imshow(seg_image)\n",
        "  plt.axis('off')\n",
        "  plt.title('segmentation map')\n",
        "\n",
        "  plt.subplot(grid_spec[2])\n",
        "  plt.imshow(image)\n",
        "  plt.imshow(seg_image, alpha=0.7)\n",
        "  plt.axis('off')\n",
        "  plt.title('segmentation overlay')\n",
        "\n",
        "  unique_labels = np.unique(seg_map)\n",
        "  ax = plt.subplot(grid_spec[3])\n",
        "  plt.imshow(\n",
        "      FULL_COLOR_MAP[unique_labels].astype(np.uint8), interpolation='nearest')\n",
        "  ax.yaxis.tick_right()\n",
        "  plt.yticks(range(len(unique_labels)), LABEL_NAMES[unique_labels])\n",
        "  plt.xticks([], [])\n",
        "  ax.tick_params(width=0.0)\n",
        "  plt.grid('off')\n",
        "  plt.show()\n",
        "\n",
        "\n",
        "LABEL_NAMES = np.asarray([\n",
        "    'background', 'aeroplane', 'bicycle', 'bird', 'boat', 'bottle', 'bus',\n",
        "    'car', 'cat', 'chair', 'cow', 'diningtable', 'dog', 'horse', 'motorbike',\n",
        "    'person', 'pottedplant', 'sheep', 'sofa', 'train', 'tv'\n",
        "])\n",
        "\n",
        "FULL_LABEL_MAP = np.arange(len(LABEL_NAMES)).reshape(len(LABEL_NAMES), 1)\n",
        "FULL_COLOR_MAP = label_to_color_image(FULL_LABEL_MAP)\n"
      ],
      "execution_count": null,
      "outputs": []
    },
    {
      "cell_type": "code",
      "metadata": {
        "id": "O9tIjKKp_1dJ",
        "colab_type": "code",
        "colab": {}
      },
      "source": [
        "MODEL_NAME = 'mobilenetv2_coco_voctrainaug'  # @param ['mobilenetv2_coco_voctrainaug', 'mobilenetv2_coco_voctrainval', 'xception_coco_voctrainaug', 'xception_coco_voctrainval']\n",
        "\n",
        "_DOWNLOAD_URL_PREFIX = 'http://download.tensorflow.org/models/'\n",
        "_MODEL_URLS = {\n",
        "    'mobilenetv2_coco_voctrainaug':\n",
        "        'deeplabv3_mnv2_pascal_train_aug_2018_01_29.tar.gz',\n",
        "    'mobilenetv2_coco_voctrainval':\n",
        "        'deeplabv3_mnv2_pascal_trainval_2018_01_29.tar.gz',\n",
        "    'xception_coco_voctrainaug':\n",
        "        'deeplabv3_pascal_train_aug_2018_01_04.tar.gz',\n",
        "    'xception_coco_voctrainval':\n",
        "        'deeplabv3_pascal_trainval_2018_01_04.tar.gz',\n",
        "}\n",
        "_TARBALL_NAME = 'deeplab_model.tar.gz'\n",
        "\n",
        "model_dir = tempfile.mkdtemp()\n",
        "tf.gfile.MakeDirs(model_dir)\n",
        "\n",
        "download_path = os.path.join(model_dir, _TARBALL_NAME)\n",
        "print('downloading model, this might take a while...')\n",
        "urllib.request.urlretrieve(_DOWNLOAD_URL_PREFIX + _MODEL_URLS[MODEL_NAME],\n",
        "                   download_path)\n",
        "print('download completed! loading DeepLab model...')\n",
        "\n",
        "MODEL = DeepLabModel(download_path)\n",
        "print('model loaded successfully!')\n"
      ],
      "execution_count": null,
      "outputs": []
    },
    {
      "cell_type": "code",
      "metadata": {
        "id": "sZPGGQ9kJJEr",
        "colab_type": "code",
        "colab": {}
      },
      "source": [
        "def run_visualization():\n",
        "  \"\"\"Inferences DeepLab model and visualizes result.\"\"\"\n",
        "  try:\n",
        "    original_im = Image.open(IMAGE_NAME)\n",
        "  except IOError:\n",
        "    print('Cannot retrieve image. Please check url: ' + url)\n",
        "    return\n",
        "\n",
        "  print('running deeplab on image')\n",
        "  resized_im, seg_map = MODEL.run(original_im)\n",
        "  vis_segmentation(resized_im, seg_map)\n",
        "  return resized_im, seg_map"
      ],
      "execution_count": null,
      "outputs": []
    },
    {
      "cell_type": "code",
      "metadata": {
        "id": "Q_XqGk-TCPFo",
        "colab_type": "code",
        "colab": {}
      },
      "source": [
        "IMAGE_NAME = 'IMG_20190601_084709.jpg'\n",
        "resized_im, seg_map = run_visualization()"
      ],
      "execution_count": null,
      "outputs": []
    },
    {
      "cell_type": "code",
      "metadata": {
        "id": "mqbuouSFJIUc",
        "colab_type": "code",
        "colab": {}
      },
      "source": [
        "LABEL_NAMES"
      ],
      "execution_count": null,
      "outputs": []
    },
    {
      "cell_type": "code",
      "metadata": {
        "id": "w97NbFG2CJNb",
        "colab_type": "code",
        "colab": {}
      },
      "source": [
        "LABEL_NAMES[15]"
      ],
      "execution_count": null,
      "outputs": []
    },
    {
      "cell_type": "markdown",
      "metadata": {
        "id": "2LlLncjQaKaD",
        "colab_type": "text"
      },
      "source": [
        "# Convert PIL Image to Numpy"
      ]
    },
    {
      "cell_type": "code",
      "metadata": {
        "id": "3IRXSEcyaMFq",
        "colab_type": "code",
        "colab": {}
      },
      "source": [
        "print(type(resized_im))\n",
        "numpy_image = np.array(resized_im) "
      ],
      "execution_count": null,
      "outputs": []
    },
    {
      "cell_type": "code",
      "metadata": {
        "id": "DsMCQg4bE9eN",
        "colab_type": "code",
        "colab": {}
      },
      "source": [
        "plt.imshow(numpy_image)"
      ],
      "execution_count": null,
      "outputs": []
    },
    {
      "cell_type": "markdown",
      "metadata": {
        "id": "G8I3q27OFIrt",
        "colab_type": "text"
      },
      "source": [
        "# Seperate Person & Not Person classes using Segmap"
      ]
    },
    {
      "cell_type": "code",
      "metadata": {
        "id": "gOo_wALQEcw-",
        "colab_type": "code",
        "colab": {}
      },
      "source": [
        "person_not_person_mapping = deepcopy(numpy_image)\n",
        "person_not_person_mapping[seg_map != 15] = 0\n",
        "person_not_person_mapping[seg_map == 15] = 255"
      ],
      "execution_count": null,
      "outputs": []
    },
    {
      "cell_type": "code",
      "metadata": {
        "id": "NQ3qHbf5FQCo",
        "colab_type": "code",
        "colab": {}
      },
      "source": [
        "plt.imshow(person_not_person_mapping)"
      ],
      "execution_count": null,
      "outputs": []
    },
    {
      "cell_type": "code",
      "metadata": {
        "id": "gAA6CJpJGiZp",
        "colab_type": "code",
        "colab": {}
      },
      "source": [
        "np.unique(person_not_person_mapping)"
      ],
      "execution_count": null,
      "outputs": []
    },
    {
      "cell_type": "markdown",
      "metadata": {
        "id": "kY_U1lJEFmvM",
        "colab_type": "text"
      },
      "source": [
        "# Resize person_not_person_mapping to original image Resolution"
      ]
    },
    {
      "cell_type": "code",
      "metadata": {
        "id": "KRuI_tgqEfA-",
        "colab_type": "code",
        "colab": {}
      },
      "source": [
        "orig_imginal = Image.open(IMAGE_NAME)\n",
        "orig_imginal = np.array(orig_imginal)"
      ],
      "execution_count": null,
      "outputs": []
    },
    {
      "cell_type": "code",
      "metadata": {
        "id": "ioLOri5vaMVD",
        "colab_type": "code",
        "colab": {}
      },
      "source": [
        "orig_imginal.shape"
      ],
      "execution_count": null,
      "outputs": []
    },
    {
      "cell_type": "code",
      "metadata": {
        "id": "nJoqCRWs9BYl",
        "colab_type": "code",
        "colab": {}
      },
      "source": [
        "mapping_resized = cv2.resize(person_not_person_mapping, \n",
        "                             (orig_imginal.shape[1],\n",
        "                              orig_imginal.shape[0]),\n",
        "                             Image.ANTIALIAS)"
      ],
      "execution_count": null,
      "outputs": []
    },
    {
      "cell_type": "code",
      "metadata": {
        "id": "MI7j3AAIaYe_",
        "colab_type": "code",
        "colab": {}
      },
      "source": [
        "plt.imshow(mapping_resized)"
      ],
      "execution_count": null,
      "outputs": []
    },
    {
      "cell_type": "code",
      "metadata": {
        "id": "bLjbcRvxGbgw",
        "colab_type": "code",
        "colab": {}
      },
      "source": [
        "np.unique(mapping_resized)"
      ],
      "execution_count": null,
      "outputs": []
    },
    {
      "cell_type": "markdown",
      "metadata": {
        "id": "CSxuY2JhGqhA",
        "colab_type": "text"
      },
      "source": [
        "## Otsu's Binarization"
      ]
    },
    {
      "cell_type": "code",
      "metadata": {
        "id": "Lli8UYFsGbm5",
        "colab_type": "code",
        "colab": {}
      },
      "source": [
        "gray = cv2.cvtColor(mapping_resized, cv2.COLOR_BGR2GRAY)\n",
        "blurred = cv2.GaussianBlur(gray,(15,15),0)\n",
        "ret3,thresholded_img = cv2.threshold(blurred,0,255,cv2.THRESH_BINARY+cv2.THRESH_OTSU)"
      ],
      "execution_count": null,
      "outputs": []
    },
    {
      "cell_type": "code",
      "metadata": {
        "id": "wiQywJ3RG9FN",
        "colab_type": "code",
        "colab": {}
      },
      "source": [
        "plt.imshow(thresholded_img, cmap=\"gray\")"
      ],
      "execution_count": null,
      "outputs": []
    },
    {
      "cell_type": "code",
      "metadata": {
        "id": "TaEA4mt2HM0Z",
        "colab_type": "code",
        "colab": {}
      },
      "source": [
        "thresholded_img.ndim"
      ],
      "execution_count": null,
      "outputs": []
    },
    {
      "cell_type": "code",
      "metadata": {
        "id": "dKXaikvyGocd",
        "colab_type": "code",
        "colab": {}
      },
      "source": [
        "mapping = cv2.cvtColor(thresholded_img, cv2.COLOR_GRAY2RGB)\n",
        "plt.imshow(mapping)"
      ],
      "execution_count": null,
      "outputs": []
    },
    {
      "cell_type": "code",
      "metadata": {
        "id": "Qa1pvdVaGbkd",
        "colab_type": "code",
        "colab": {}
      },
      "source": [
        "np.unique(mapping)"
      ],
      "execution_count": null,
      "outputs": []
    },
    {
      "cell_type": "markdown",
      "metadata": {
        "id": "zRU0LnwWHejF",
        "colab_type": "text"
      },
      "source": [
        "# Applying Layers"
      ]
    },
    {
      "cell_type": "code",
      "metadata": {
        "id": "42pvO86d98sz",
        "colab_type": "code",
        "colab": {}
      },
      "source": [
        "blurred_original_image = cv2.GaussianBlur(orig_imginal,\n",
        "                                          (251,251), \n",
        "                                          0)"
      ],
      "execution_count": null,
      "outputs": []
    },
    {
      "cell_type": "code",
      "metadata": {
        "id": "G0nAy17XHkE1",
        "colab_type": "code",
        "colab": {}
      },
      "source": [
        "plt.imshow(blurred_original_image)"
      ],
      "execution_count": null,
      "outputs": []
    },
    {
      "cell_type": "code",
      "metadata": {
        "id": "o9VVJQsWHkIL",
        "colab_type": "code",
        "colab": {}
      },
      "source": [
        "layered_image = np.where(mapping != (0,0,0), \n",
        "                         orig_imginal, \n",
        "                         blurred_original_image)"
      ],
      "execution_count": null,
      "outputs": []
    },
    {
      "cell_type": "code",
      "metadata": {
        "id": "JzXLY2rp_VhG",
        "colab_type": "code",
        "colab": {}
      },
      "source": [
        "plt.imshow(layered_image)"
      ],
      "execution_count": null,
      "outputs": []
    },
    {
      "cell_type": "code",
      "metadata": {
        "id": "MSAp7D5KIH2Z",
        "colab_type": "code",
        "colab": {}
      },
      "source": [
        "im_rgb = cv2.cvtColor(layered_image, cv2.COLOR_BGR2RGB)\n",
        "cv2.imwrite(\"Potrait_Image.jpg\", im_rgb)"
      ],
      "execution_count": null,
      "outputs": []
    },
    {
      "cell_type": "code",
      "metadata": {
        "id": "KmlpoPZ9IH54",
        "colab_type": "code",
        "colab": {}
      },
      "source": [
        "IMG(\"Potrait_Image.jpg\")"
      ],
      "execution_count": null,
      "outputs": []
    },
    {
      "cell_type": "code",
      "metadata": {
        "id": "qqo-OApWIQxt",
        "colab_type": "code",
        "colab": {}
      },
      "source": [
        ""
      ],
      "execution_count": null,
      "outputs": []
    }
  ]
}